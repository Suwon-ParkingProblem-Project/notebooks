{
 "cells": [
  {
   "cell_type": "code",
   "execution_count": 18,
   "id": "561e6101",
   "metadata": {},
   "outputs": [
    {
     "data": {
      "text/html": [
       "<div>\n",
       "<style scoped>\n",
       "    .dataframe tbody tr th:only-of-type {\n",
       "        vertical-align: middle;\n",
       "    }\n",
       "\n",
       "    .dataframe tbody tr th {\n",
       "        vertical-align: top;\n",
       "    }\n",
       "\n",
       "    .dataframe thead th {\n",
       "        text-align: right;\n",
       "    }\n",
       "</style>\n",
       "<table border=\"1\" class=\"dataframe\">\n",
       "  <thead>\n",
       "    <tr style=\"text-align: right;\">\n",
       "      <th></th>\n",
       "      <th>시군구명</th>\n",
       "      <th>단속구분</th>\n",
       "      <th>단속일자</th>\n",
       "      <th>총 단속건수</th>\n",
       "      <th>정상처리 건수</th>\n",
       "      <th>종결처리 건수</th>\n",
       "      <th>데이터기준일자</th>\n",
       "    </tr>\n",
       "  </thead>\n",
       "  <tbody>\n",
       "    <tr>\n",
       "      <th>0</th>\n",
       "      <td>권선구경제교통과</td>\n",
       "      <td>고정형CCTV</td>\n",
       "      <td>2024-01-01</td>\n",
       "      <td>104</td>\n",
       "      <td>4</td>\n",
       "      <td>100</td>\n",
       "      <td>2025-04-16</td>\n",
       "    </tr>\n",
       "    <tr>\n",
       "      <th>1</th>\n",
       "      <td>권선구경제교통과</td>\n",
       "      <td>국민신문고</td>\n",
       "      <td>2024-01-01</td>\n",
       "      <td>134</td>\n",
       "      <td>17</td>\n",
       "      <td>117</td>\n",
       "      <td>2025-04-16</td>\n",
       "    </tr>\n",
       "    <tr>\n",
       "      <th>2</th>\n",
       "      <td>권선구경제교통과</td>\n",
       "      <td>모바일(개별시스템)</td>\n",
       "      <td>2024-01-01</td>\n",
       "      <td>2</td>\n",
       "      <td>0</td>\n",
       "      <td>2</td>\n",
       "      <td>2025-04-16</td>\n",
       "    </tr>\n",
       "    <tr>\n",
       "      <th>3</th>\n",
       "      <td>권선구경제교통과</td>\n",
       "      <td>민원(공익제보)</td>\n",
       "      <td>2024-01-01</td>\n",
       "      <td>1</td>\n",
       "      <td>0</td>\n",
       "      <td>1</td>\n",
       "      <td>2025-04-16</td>\n",
       "    </tr>\n",
       "    <tr>\n",
       "      <th>4</th>\n",
       "      <td>권선구경제교통과</td>\n",
       "      <td>안전신문고</td>\n",
       "      <td>2024-01-01</td>\n",
       "      <td>5</td>\n",
       "      <td>2</td>\n",
       "      <td>3</td>\n",
       "      <td>2025-04-16</td>\n",
       "    </tr>\n",
       "  </tbody>\n",
       "</table>\n",
       "</div>"
      ],
      "text/plain": [
       "       시군구명        단속구분        단속일자  총 단속건수  정상처리 건수  종결처리 건수     데이터기준일자\n",
       "0  권선구경제교통과     고정형CCTV  2024-01-01     104        4      100  2025-04-16\n",
       "1  권선구경제교통과       국민신문고  2024-01-01     134       17      117  2025-04-16\n",
       "2  권선구경제교통과  모바일(개별시스템)  2024-01-01       2        0        2  2025-04-16\n",
       "3  권선구경제교통과    민원(공익제보)  2024-01-01       1        0        1  2025-04-16\n",
       "4  권선구경제교통과       안전신문고  2024-01-01       5        2        3  2025-04-16"
      ]
     },
     "execution_count": 18,
     "metadata": {},
     "output_type": "execute_result"
    }
   ],
   "source": [
    "import pandas as pd\n",
    "import matplotlib.pyplot as plt\n",
    "import seaborn as sns\n",
    "\n",
    "df = pd.read_csv(\"C:/Users/siam2/Desktop/수원시_주정차단속현황.csv\", encoding=\"cp949\")\n",
    "df.head(5)"
   ]
  },
  {
   "cell_type": "code",
   "execution_count": 2,
   "id": "56053182",
   "metadata": {},
   "outputs": [
    {
     "data": {
      "text/plain": [
       "시군구명\n",
       "팔달구경제교통과    1478\n",
       "권선구경제교통과    1370\n",
       "영통구경제교통과    1360\n",
       "장안구경제교통과    1241\n",
       "Name: count, dtype: int64"
      ]
     },
     "execution_count": 2,
     "metadata": {},
     "output_type": "execute_result"
    }
   ],
   "source": [
    "df['시군구명'].value_counts()"
   ]
  },
  {
   "cell_type": "code",
   "execution_count": null,
   "id": "148b3a89",
   "metadata": {},
   "outputs": [
    {
     "data": {
      "text/plain": [
       "단속방법\n",
       "국민신문고    1674\n",
       "고정형      1395\n",
       "주행형      1375\n",
       "보행        994\n",
       "Name: count, dtype: int64"
      ]
     },
     "execution_count": 6,
     "metadata": {},
     "output_type": "execute_result"
    }
   ],
   "source": [
    "# 단속방법 열 추가 (추후 불법주차 단속위치 데이터와의 통합에 필요)\n",
    "df['단속방법'] = df['단속구분'].map(\n",
    "    lambda x: '고정형' if x == '고정형CCTV'\n",
    "    else '주행형' if x == '주행형CCTV'\n",
    "    else '국민신문고' if x in ['국민신문고', '모바일(개별시스템)', '민원(공익제보)', '안전신문고']\n",
    "    else '보행' if x in ['수기보행등록', 'PDA']\n",
    "    else '기타'\n",
    ")\n",
    "\n",
    "# 단속방법이 '기타'인 행 제거 (총 11건)\n",
    "df = df[df['단속방법'] != '기타'].reset_index(drop=True)\n",
    "\n",
    "df['단속방법'].value_counts()"
   ]
  },
  {
   "cell_type": "code",
   "execution_count": null,
   "id": "73b7000e",
   "metadata": {},
   "outputs": [
    {
     "data": {
      "text/plain": [
       "0       0.961538\n",
       "1       0.873134\n",
       "2       1.000000\n",
       "3       1.000000\n",
       "4       0.600000\n",
       "          ...   \n",
       "5433    0.126582\n",
       "5434    0.523385\n",
       "5435    0.142857\n",
       "5436    0.138462\n",
       "5437    0.118182\n",
       "Name: ratio, Length: 5438, dtype: float64"
      ]
     },
     "execution_count": 13,
     "metadata": {},
     "output_type": "execute_result"
    }
   ],
   "source": [
    "# weight로 사용할 ratio 열 추가 (응급상황, 차량고장 및 중복 등의 경우는 분석에서 제외)\n",
    "df['ratio'] = df['종결처리 건수']/df['총 단속건수']\n",
    "\n",
    "df['ratio']\n"
   ]
  },
  {
   "cell_type": "code",
   "execution_count": null,
   "id": "e2e076b5",
   "metadata": {},
   "outputs": [
    {
     "data": {
      "text/html": [
       "<div>\n",
       "<style scoped>\n",
       "    .dataframe tbody tr th:only-of-type {\n",
       "        vertical-align: middle;\n",
       "    }\n",
       "\n",
       "    .dataframe tbody tr th {\n",
       "        vertical-align: top;\n",
       "    }\n",
       "\n",
       "    .dataframe thead th {\n",
       "        text-align: right;\n",
       "    }\n",
       "</style>\n",
       "<table border=\"1\" class=\"dataframe\">\n",
       "  <thead>\n",
       "    <tr style=\"text-align: right;\">\n",
       "      <th>단속방법</th>\n",
       "      <th>고정형</th>\n",
       "      <th>국민신문고</th>\n",
       "      <th>보행</th>\n",
       "      <th>주행형</th>\n",
       "    </tr>\n",
       "    <tr>\n",
       "      <th>시군구명</th>\n",
       "      <th></th>\n",
       "      <th></th>\n",
       "      <th></th>\n",
       "      <th></th>\n",
       "    </tr>\n",
       "  </thead>\n",
       "  <tbody>\n",
       "    <tr>\n",
       "      <th>권선구경제교통과</th>\n",
       "      <td>0.206787</td>\n",
       "      <td>0.270934</td>\n",
       "      <td>0.134648</td>\n",
       "      <td>0.192131</td>\n",
       "    </tr>\n",
       "    <tr>\n",
       "      <th>영통구경제교통과</th>\n",
       "      <td>0.241487</td>\n",
       "      <td>0.323715</td>\n",
       "      <td>0.110963</td>\n",
       "      <td>0.192318</td>\n",
       "    </tr>\n",
       "    <tr>\n",
       "      <th>장안구경제교통과</th>\n",
       "      <td>0.179508</td>\n",
       "      <td>0.234355</td>\n",
       "      <td>0.085225</td>\n",
       "      <td>0.149562</td>\n",
       "    </tr>\n",
       "    <tr>\n",
       "      <th>팔달구경제교통과</th>\n",
       "      <td>0.263392</td>\n",
       "      <td>0.297044</td>\n",
       "      <td>0.188544</td>\n",
       "      <td>0.231601</td>\n",
       "    </tr>\n",
       "  </tbody>\n",
       "</table>\n",
       "</div>"
      ],
      "text/plain": [
       "단속방법           고정형     국민신문고        보행       주행형\n",
       "시군구명                                            \n",
       "권선구경제교통과  0.206787  0.270934  0.134648  0.192131\n",
       "영통구경제교통과  0.241487  0.323715  0.110963  0.192318\n",
       "장안구경제교통과  0.179508  0.234355  0.085225  0.149562\n",
       "팔달구경제교통과  0.263392  0.297044  0.188544  0.231601"
      ]
     },
     "execution_count": 14,
     "metadata": {},
     "output_type": "execute_result"
    }
   ],
   "source": [
    "# 시군구별, 단속방법 별로 ratio의 평균값 계산 -> 추후 weight로 사용 예정\n",
    "pivot = df.pivot_table(index = '시군구명', \n",
    "                       columns = '단속방법',\n",
    "                       values = 'ratio',\n",
    "                       aggfunc = 'mean')\n",
    "pivot"
   ]
  },
  {
   "cell_type": "code",
   "execution_count": null,
   "id": "35ffe635",
   "metadata": {},
   "outputs": [
    {
     "data": {
      "image/png": "[encoded data removed]",
      "text/plain": [
       "<Figure size 1200x800 with 2 Axes>"
      ]
     },
     "metadata": {},
     "output_type": "display_data"
    }
   ],
   "source": [
    "# 히트맵 시각화\n",
    "\n",
    "# 한글 폰트 설정 (맑은 고딕 사용)\n",
    "plt.rcParams['font.family'] = 'Malgun Gothic'  # Windows용\n",
    "plt.rcParams['axes.unicode_minus'] = False     # 마이너스 기호 깨짐 방지\n",
    "\n",
    "plt.figure(figsize=(12, 8))\n",
    "sns.heatmap(pivot,           # 시각화할 데이터프레임\n",
    "            annot=True,      # 각 셀에 숫자 표시\n",
    "            fmt=\".2f\",       # 소수점 둘째자리까지 표시\n",
    "            cmap=\"YlGnBu\")   # 색상 팔레트\n",
    "plt.title('시군구명과 단속방법별 종결처리비율(ratio) 평균', fontsize=16)\n",
    "plt.xlabel('단속방법', fontsize=12)\n",
    "plt.ylabel('시군구명', fontsize=12)\n",
    "plt.xticks(rotation=45)  # x축 레이블 45도 회전\n",
    "plt.yticks(rotation=0)   # y축 레이블 정렬\n",
    "plt.tight_layout()\n",
    "plt.show()"
   ]
  },
  {
   "cell_type": "code",
   "execution_count": null,
   "id": "e2deb041",
   "metadata": {},
   "outputs": [],
   "source": []
  }
 ],
 "metadata": {
  "kernelspec": {
   "display_name": "base",
   "language": "python",
   "name": "python3"
  },
  "language_info": {
   "codemirror_mode": {
    "name": "ipython",
    "version": 3
   },
   "file_extension": ".py",
   "mimetype": "text/x-python",
   "name": "python",
   "nbconvert_exporter": "python",
   "pygments_lexer": "ipython3",
   "version": "3.12.7"
  }
 },
 "nbformat": 4,
 "nbformat_minor": 5
}
