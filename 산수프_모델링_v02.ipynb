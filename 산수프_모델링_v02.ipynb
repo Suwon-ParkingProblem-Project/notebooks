{
 "cells": [
  {
   "cell_type": "code",
   "execution_count": 36,
   "id": "45fb52c0",
   "metadata": {},
   "outputs": [],
   "source": [
    "import pandas as pd\n",
    "import numpy as np\n",
    "from sklearn.model_selection import KFold, cross_val_score\n",
    "from sklearn.metrics import mean_squared_error, mean_absolute_error, r2_score\n",
    "from sklearn.linear_model import LinearRegression\n",
    "from sklearn.ensemble import RandomForestRegressor\n",
    "from xgboost import XGBRegressor\n",
    "from lightgbm import LGBMRegressor\n",
    "from catboost import CatBoostRegressor\n",
    "from sklearn.model_selection import GridSearchCV\n",
    "\n",
    "# 1. 데이터 로딩\n",
    "df = pd.read_csv('데이터프레임_수정_v02.csv') \n",
    "\n",
    "# 2. 독립변수 / 종속변수 지정\n",
    "X = df[['생활 인구', '소매업', '의료기관', '교육기관', '카드소비', '서비스업', '음식점', '지역면적(km^2)', '버스정류장수', '추정 차량등록수', '근린생활시설수']]\n",
    "y = df['적정 주차면수']  # = 주차면수 합 + 단속건수*가중치"
   ]
  },
  {
   "cell_type": "code",
   "execution_count": 37,
   "id": "51767abc",
   "metadata": {},
   "outputs": [
    {
     "name": "stderr",
     "output_type": "stream",
     "text": [
      "c:\\Users\\siam2\\anaconda3\\Lib\\site-packages\\numpy\\ma\\core.py:2820: RuntimeWarning: invalid value encountered in cast\n",
      "  _data = np.array(data, dtype=dtype, copy=copy,\n"
     ]
    },
    {
     "name": "stdout",
     "output_type": "stream",
     "text": [
      "✅ [XGBoost] 최적 하이퍼파라미터: {'learning_rate': 0.045, 'max_depth': 3, 'n_estimators': 60, 'subsample': 0.9}\n",
      "📊 [XGBoost] 교차검증 기반 성능 지표:\n",
      "R²            : 0.54270\n",
      "Adjusted R²   : 0.38550\n",
      "RMSE          : 3153.85996\n",
      "MAE           : 1952.46527\n"
     ]
    }
   ],
   "source": [
    "# XGBoost GridSearch\n",
    "# 1. 모델과 파라미터 정의\n",
    "xgb = XGBRegressor(random_state=0)\n",
    "param_grid = {\n",
    "    'n_estimators': [50, 60, 75, 90, 100, 150],\n",
    "    'max_depth': [3, 4, 5],\n",
    "    'learning_rate': [0.03, 0.035, 0.04, 0.045, 0.05, 0.1],\n",
    "    'subsample': [0.8, 0.9, 1.0]\n",
    "}\n",
    "\n",
    "# 2. R² 기반 GridSearchCV (CV 수행)\n",
    "grid_search = GridSearchCV(\n",
    "    estimator=xgb,\n",
    "    param_grid=param_grid,\n",
    "    scoring='r2',\n",
    "    cv=10,\n",
    "    n_jobs=-1\n",
    ")\n",
    "grid_search.fit(X, y)\n",
    "best_model = grid_search.best_estimator_\n",
    "\n",
    "# 3. 교차검증 기반 성능 평가\n",
    "n = X.shape[0]  # 표본 수\n",
    "p = X.shape[1]  # 설명변수 수\n",
    "\n",
    "# R²\n",
    "cv_r2_rf = np.mean(cross_val_score(best_model, X, y, cv=10, scoring='r2'))\n",
    "\n",
    "# Adjusted R²\n",
    "adj_r2_rf = 1 - (1 - cv_r2_rf) * (n - 1) / (n - p - 1)\n",
    "\n",
    "# RMSE\n",
    "neg_mse_scores_rf = cross_val_score(best_model, X, y, cv=10, scoring='neg_mean_squared_error')\n",
    "cv_rmse_rf = np.mean(np.sqrt(-neg_mse_scores_rf))\n",
    "\n",
    "# MAE\n",
    "neg_mae_scores_rf = cross_val_score(best_model, X, y, cv=10, scoring='neg_mean_absolute_error')\n",
    "cv_mae_rf = np.mean(-neg_mae_scores_rf)\n",
    "\n",
    "# 4. 결과 출력\n",
    "print(\"✅ [XGBoost] 최적 하이퍼파라미터:\", grid_search.best_params_)\n",
    "print(\"📊 [XGBoost] 교차검증 기반 성능 지표:\")\n",
    "print(f\"R²            : {cv_r2_rf:.5f}\")\n",
    "print(f\"Adjusted R²   : {adj_r2_rf:.5f}\")\n",
    "print(f\"RMSE          : {cv_rmse_rf:.5f}\")\n",
    "print(f\"MAE           : {cv_mae_rf:.5f}\")"
   ]
  },
  {
   "cell_type": "code",
   "execution_count": 16,
   "id": "16320c9b",
   "metadata": {},
   "outputs": [
    {
     "name": "stdout",
     "output_type": "stream",
     "text": [
      "✅ [RandomForest] 최적 하이퍼파라미터: {'max_depth': 5, 'min_samples_split': 5, 'n_estimators': 100}\n",
      "📊 [RandomForest] 교차검증 기반 성능 지표:\n",
      "R²            : 0.34736\n",
      "Adjusted R²   : 0.17460\n",
      "RMSE          : 3161.34827\n",
      "MAE           : 2067.41690\n"
     ]
    }
   ],
   "source": [
    "# RandomForest GridSearch\n",
    "# 1. 모델과 파라미터 정의\n",
    "rf = RandomForestRegressor(random_state=0)\n",
    "param_grid_rf = {\n",
    "    'n_estimators': [75, 100, 150],\n",
    "    'max_depth': [None, 5, 10],\n",
    "    'min_samples_split': [2, 5]\n",
    "}\n",
    "\n",
    "# 2. GridSearchCV (R² 기준)\n",
    "grid_search_rf = GridSearchCV(\n",
    "    estimator=rf,\n",
    "    param_grid=param_grid_rf,\n",
    "    scoring='r2',\n",
    "    cv=10,\n",
    "    n_jobs=-1\n",
    ")\n",
    "grid_search_rf.fit(X, y)\n",
    "best_rf = grid_search_rf.best_estimator_\n",
    "\n",
    "# 3. 교차검증 기반 성능 평가\n",
    "n = X.shape[0]  # 표본 수\n",
    "p = X.shape[1]  # 설명변수 수\n",
    "\n",
    "# R²\n",
    "cv_r2_rf = np.mean(cross_val_score(best_rf, X, y, cv=10, scoring='r2'))\n",
    "\n",
    "# Adjusted R²\n",
    "adj_r2_rf = 1 - (1 - cv_r2_rf) * (n - 1) / (n - p - 1)\n",
    "\n",
    "# RMSE\n",
    "neg_mse_scores_rf = cross_val_score(best_rf, X, y, cv=10, scoring='neg_mean_squared_error')\n",
    "cv_rmse_rf = np.mean(np.sqrt(-neg_mse_scores_rf))\n",
    "\n",
    "# MAE\n",
    "neg_mae_scores_rf = cross_val_score(best_rf, X, y, cv=10, scoring='neg_mean_absolute_error')\n",
    "cv_mae_rf = np.mean(-neg_mae_scores_rf)\n",
    "\n",
    "# 4. 결과 출력\n",
    "print(\"✅ [RandomForest] 최적 하이퍼파라미터:\", grid_search_rf.best_params_)\n",
    "print(\"📊 [RandomForest] 교차검증 기반 성능 지표:\")\n",
    "print(f\"R²            : {cv_r2_rf:.5f}\")\n",
    "print(f\"Adjusted R²   : {adj_r2_rf:.5f}\")\n",
    "print(f\"RMSE          : {cv_rmse_rf:.5f}\")\n",
    "print(f\"MAE           : {cv_mae_rf:.5f}\")"
   ]
  },
  {
   "cell_type": "code",
   "execution_count": 18,
   "id": "bbc3e250",
   "metadata": {},
   "outputs": [
    {
     "name": "stdout",
     "output_type": "stream",
     "text": [
      "✅ [CatBoost] 최적 하이퍼파라미터: {'depth': 3, 'iterations': 100, 'learning_rate': 0.05}\n",
      "📊 [CatBoost] 교차검증 기반 성능 지표:\n",
      "R²            : 0.47940\n",
      "Adjusted R²   : 0.34159\n",
      "RMSE          : 3269.22198\n",
      "MAE           : 2142.51526\n"
     ]
    }
   ],
   "source": [
    "# Catboost GridSearch\n",
    "# 1. 모델과 파라미터 정의\n",
    "cat = CatBoostRegressor(verbose=0, random_state=0)\n",
    "param_grid_cat = {\n",
    "    'iterations': [75, 100],\n",
    "    'depth': [3, 4, 5],\n",
    "    'learning_rate': [0.03, 0.05]\n",
    "}\n",
    "\n",
    "# 2. GridSearchCV (R² 기준)\n",
    "grid_search_cat = GridSearchCV(\n",
    "    estimator=cat,\n",
    "    param_grid=param_grid_cat,\n",
    "    scoring='r2',\n",
    "    cv=10,\n",
    "    n_jobs=-1\n",
    ")\n",
    "grid_search_cat.fit(X, y)\n",
    "best_cat = grid_search_cat.best_estimator_\n",
    "\n",
    "# 3. 교차검증 기반 성능 평가\n",
    "n = X.shape[0]  # 표본 수\n",
    "p = X.shape[1]  # 설명변수 수\n",
    "\n",
    "# R²\n",
    "cv_r2_cat = np.mean(cross_val_score(best_cat, X, y, cv=10, scoring='r2'))\n",
    "\n",
    "# Adjusted R²\n",
    "adj_r2_cat = 1 - (1 - cv_r2_cat) * (n - 1) / (n - p - 1)\n",
    "\n",
    "# RMSE\n",
    "neg_mse_scores_cat = cross_val_score(best_cat, X, y, cv=10, scoring='neg_mean_squared_error')\n",
    "cv_rmse_cat = np.mean(np.sqrt(-neg_mse_scores_cat))\n",
    "\n",
    "# MAE\n",
    "neg_mae_scores_cat = cross_val_score(best_cat, X, y, cv=10, scoring='neg_mean_absolute_error')\n",
    "cv_mae_cat = np.mean(-neg_mae_scores_cat)\n",
    "\n",
    "# 4. 결과 출력\n",
    "print(\"✅ [CatBoost] 최적 하이퍼파라미터:\", grid_search_cat.best_params_)\n",
    "print(\"📊 [CatBoost] 교차검증 기반 성능 지표:\")\n",
    "print(f\"R²            : {cv_r2_cat:.5f}\")\n",
    "print(f\"Adjusted R²   : {adj_r2_cat:.5f}\")\n",
    "print(f\"RMSE          : {cv_rmse_cat:.5f}\")\n",
    "print(f\"MAE           : {cv_mae_cat:.5f}\")"
   ]
  },
  {
   "cell_type": "markdown",
   "id": "7c27cb03",
   "metadata": {},
   "source": [
    "성능이 가장 좋은 XGBoost를 사용 모델로 채택합니다.\n",
    "\n",
    "이후 변수제거법(Backward Feature Elimination)으로 특정 변수를 제거했을 때 성능이 올라가는지 확인합니다.  \n",
    "하나씩 변수를 제거해가며, **교차검증 기반 성능(R², RMSE 등)**을 비교합니다."
   ]
  },
  {
   "cell_type": "code",
   "execution_count": 38,
   "id": "e7b7a3eb",
   "metadata": {},
   "outputs": [
    {
     "name": "stdout",
     "output_type": "stream",
     "text": [
      "✅ 변수 제거 시 교차검증 R² 변화:\n",
      "   Removed_Feature  CV_R2_after_removal  R2_Change\n",
      "6              음식점             0.539076   0.084829\n",
      "4             카드소비             0.523404   0.069158\n",
      "0            생활 인구             0.516029   0.061783\n",
      "9         추정 차량등록수             0.462495   0.008248\n",
      "3             교육기관             0.458777   0.004531\n",
      "2             의료기관             0.449295  -0.004951\n",
      "8           버스정류장수             0.445755  -0.008491\n",
      "5             서비스업             0.422528  -0.031718\n",
      "10         근린생활시설수             0.403110  -0.051137\n",
      "7       지역면적(km^2)             0.285101  -0.169145\n",
      "1              소매업            -0.497788  -0.952034\n"
     ]
    }
   ],
   "source": [
    "from sklearn.model_selection import cross_val_score\n",
    "import numpy as np\n",
    "import pandas as pd\n",
    "from xgboost import XGBRegressor\n",
    "\n",
    "# 전체 변수 목록\n",
    "base_features = X.columns.tolist()\n",
    "\n",
    "# 기준 모델\n",
    "base_model = XGBRegressor(random_state=0)\n",
    "base_r2 = np.mean(cross_val_score(base_model, X, y, cv=10, scoring='r2'))\n",
    "\n",
    "results = []\n",
    "\n",
    "for feature in base_features:\n",
    "    reduced_features = [f for f in base_features if f != feature]\n",
    "    X_reduced = X[reduced_features]\n",
    "    \n",
    "    model = XGBRegressor(random_state=0)\n",
    "    r2 = np.mean(cross_val_score(model, X_reduced, y, cv=10, scoring='r2'))\n",
    "    \n",
    "    results.append({\n",
    "        'Removed_Feature': feature,\n",
    "        'CV_R2_after_removal': r2,\n",
    "        'R2_Change': r2 - base_r2\n",
    "    })\n",
    "\n",
    "results_df = pd.DataFrame(results)\n",
    "results_df = results_df.sort_values(by='R2_Change', ascending=False)\n",
    "\n",
    "print(\"✅ 변수 제거 시 교차검증 R² 변화:\")\n",
    "print(results_df)"
   ]
  },
  {
   "cell_type": "markdown",
   "id": "530ad2e6",
   "metadata": {},
   "source": [
    "변수 제거시 R2값이 크게 오르는 카드소비, 생활인구, 음식점 변수를 제거하고 다시 XGBoost 진행"
   ]
  },
  {
   "cell_type": "code",
   "execution_count": 53,
   "id": "7d0d30ca",
   "metadata": {},
   "outputs": [
    {
     "name": "stdout",
     "output_type": "stream",
     "text": [
      "📌 [XGBoost] 지정 파라미터:\n",
      "{'learning_rate': 0.05, 'max_depth': 3, 'n_estimators': 50, 'subsample': 0.9}\n",
      "📊 교차검증 기반 성능 지표:\n",
      "R²            : 0.56861\n",
      "Adjusted R²   : 0.47001\n",
      "RMSE          : 3168.06301\n",
      "MAE           : 1956.15065\n"
     ]
    }
   ],
   "source": [
    "X = df[['추정 차량등록수', '교육기관', '의료기관', '버스정류장수', '서비스업', '근린생활시설수', '지역면적(km^2)', '소매업']]\n",
    "\n",
    "# 1. 최적 파라미터 적용\n",
    "xgb_model = XGBRegressor(\n",
    "    learning_rate=0.05,\n",
    "    max_depth=3,\n",
    "    n_estimators=50,\n",
    "    subsample=0.9,\n",
    "    random_state=8\n",
    ")\n",
    "\n",
    "# 2. 교차검증 기반 성능 평가\n",
    "n = X.shape[0]  # 표본 수\n",
    "p = X.shape[1]  # 설명변수 수\n",
    "\n",
    "# R²\n",
    "cv_r2 = np.mean(cross_val_score(xgb_model, X, y, cv=10, scoring='r2'))\n",
    "\n",
    "# Adjusted R²\n",
    "adj_r2 = 1 - (1 - cv_r2) * (n - 1) / (n - p - 1)\n",
    "\n",
    "# RMSE\n",
    "neg_mse_scores = cross_val_score(xgb_model, X, y, cv=10, scoring='neg_mean_squared_error')\n",
    "cv_rmse = np.mean(np.sqrt(-neg_mse_scores))\n",
    "\n",
    "# MAE\n",
    "neg_mae_scores = cross_val_score(xgb_model, X, y, cv=10, scoring='neg_mean_absolute_error')\n",
    "cv_mae = np.mean(-neg_mae_scores)\n",
    "\n",
    "# 3. 결과 출력\n",
    "print(\"📌 [XGBoost] 지정 파라미터:\")\n",
    "print(\"{'learning_rate': 0.05, 'max_depth': 3, 'n_estimators': 50, 'subsample': 0.9}\")\n",
    "print(\"📊 교차검증 기반 성능 지표:\")\n",
    "print(f\"R²            : {cv_r2:.5f}\")\n",
    "print(f\"Adjusted R²   : {adj_r2:.5f}\")\n",
    "print(f\"RMSE          : {cv_rmse:.5f}\")\n",
    "print(f\"MAE           : {cv_mae:.5f}\")"
   ]
  },
  {
   "cell_type": "code",
   "execution_count": 55,
   "id": "faeebee7",
   "metadata": {},
   "outputs": [
    {
     "name": "stdout",
     "output_type": "stream",
     "text": [
      "\n",
      "🏆 우선 설치 대상 상위 10개 행정동:\n",
      "     행정동        필요주차면수      우선순위지수\n",
      "25   인계동  14628.623047  796.208926\n",
      "31   행궁동  18817.853516  372.758873\n",
      "37  광교1동   3041.166992  171.763615\n",
      "27   매산동   5044.479004  158.323252\n",
      "16  권선1동   3331.104004  119.393350\n",
      "34  매탄3동   2485.748535   96.177483\n",
      "36   원천동   1925.476074   89.573681\n",
      "13    평동   2346.214844   83.529119\n",
      "20   금곡동   2737.037598   79.646404\n",
      "41  영통3동   1526.047363   57.006199\n"
     ]
    }
   ],
   "source": [
    "# 4. 전체 데이터로 모델 학습 (예측을 위해 필요)\n",
    "xgb_model.fit(X, y)\n",
    "\n",
    "# 5. 예측\n",
    "df['예측_적정주차면수'] = xgb_model.predict(X)\n",
    "\n",
    "# 6. 필요 주차면수 계산\n",
    "df['필요주차면수'] = df['예측_적정주차면수'] - df['주차면수 합']\n",
    "\n",
    "# 7. 우선순위 계산\n",
    "df['우선순위지수'] = df['필요주차면수'] * (df['유입인구']/df['유입인구'].sum(axis = 0))\n",
    "df_sorted = df.sort_values(by='우선순위지수', ascending=False)\n",
    "\n",
    "print(\"\\n🏆 우선 설치 대상 상위 10개 행정동:\")\n",
    "print(df_sorted[['행정동', '필요주차면수', '우선순위지수']].head(10))\n"
   ]
  }
 ],
 "metadata": {
  "kernelspec": {
   "display_name": "base",
   "language": "python",
   "name": "python3"
  },
  "language_info": {
   "codemirror_mode": {
    "name": "ipython",
    "version": 3
   },
   "file_extension": ".py",
   "mimetype": "text/x-python",
   "name": "python",
   "nbconvert_exporter": "python",
   "pygments_lexer": "ipython3",
   "version": "3.12.7"
  }
 },
 "nbformat": 4,
 "nbformat_minor": 5
}
